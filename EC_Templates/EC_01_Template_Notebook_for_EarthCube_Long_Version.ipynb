{
 "cells": [
  {
   "cell_type": "code",
   "execution_count": 20,
   "metadata": {},
   "outputs": [],
   "source": [
    "# This is a long version of EarthCube Notebook Template.\n",
    "# \n",
    "# You can also use a short version of the template (without formatting and submission instructions, examples, and references),\n",
    "# and configure it to automatically launch for any new notebook."
   ]
  },
  {
   "cell_type": "markdown",
   "metadata": {},
   "source": [
    "# Title\n",
    "The title of the notebook should be coherent with file name. Namely, file name should be:    \n",
    "*author's initials_progressive number_title.ipynb*    \n",
    "For example:    \n",
    "*EF_01_Data Exploration.ipynb*\n",
    "\n",
    "# Template Notebook for EarthCube - Long Version\n",
    "\n",
    "filename: EC_01_Template_Notebook_for_EarthCube_Long_Version.ipynb\n",
    "\n",
    "The prefix EC refers to EarthCube.\n",
    "The number refers to version of the notebook.\n",
    "\n"
   ]
  },
  {
   "cell_type": "markdown",
   "metadata": {
    "toc": true
   },
   "source": [
    "<h1>Table of Contents<span class=\"tocSkip\"></span></h1>\n",
    "<div class=\"toc\"><ul class=\"toc-item\"><li><span><a href=\"#Title\" data-toc-modified-id=\"Title-1\"><span class=\"toc-item-num\">1&nbsp;&nbsp;</span>Title</a></span></li><li><span><a href=\"#Template-Notebook-for-EarthCube---Long-Version\" data-toc-modified-id=\"Template-Notebook-for-EarthCube---Long-Version-2\"><span class=\"toc-item-num\">2&nbsp;&nbsp;</span>Template Notebook for EarthCube - Long Version</a></span><ul class=\"toc-item\"><li><span><a href=\"#Author(s)\" data-toc-modified-id=\"Author(s)-2.1\"><span class=\"toc-item-num\">2.1&nbsp;&nbsp;</span>Author(s)</a></span><ul class=\"toc-item\"><li><span><a href=\"#Author(s):\" data-toc-modified-id=\"Author(s):-2.1.1\"><span class=\"toc-item-num\">2.1.1&nbsp;&nbsp;</span>Author(s):</a></span></li><li><span><a href=\"#Affiliation(s):\" data-toc-modified-id=\"Affiliation(s):-2.1.2\"><span class=\"toc-item-num\">2.1.2&nbsp;&nbsp;</span>Affiliation(s):</a></span></li><li><span><a href=\"#Email(s):\" data-toc-modified-id=\"Email(s):-2.1.3\"><span class=\"toc-item-num\">2.1.3&nbsp;&nbsp;</span>Email(s):</a></span></li><li><span><a href=\"#Author(s):-EarthCube-Office\" data-toc-modified-id=\"Author(s):-EarthCube-Office-2.1.4\"><span class=\"toc-item-num\">2.1.4&nbsp;&nbsp;</span>Author(s): EarthCube Office</a></span></li><li><span><a href=\"#Affiliation(s):\" data-toc-modified-id=\"Affiliation(s):-2.1.5\"><span class=\"toc-item-num\">2.1.5&nbsp;&nbsp;</span>Affiliation(s):</a></span></li><li><span><a href=\"#Email(s):-info@earthcube.org\" data-toc-modified-id=\"Email(s):-info@earthcube.org-2.1.6\"><span class=\"toc-item-num\">2.1.6&nbsp;&nbsp;</span>Email(s): <a href=\"mailto:info@earthcube.org\" target=\"_blank\">info@earthcube.org</a></a></span></li></ul></li><li><span><a href=\"#Citation\" data-toc-modified-id=\"Citation-2.2\"><span class=\"toc-item-num\">2.2&nbsp;&nbsp;</span>Citation</a></span></li><li><span><a href=\"#Purpose\" data-toc-modified-id=\"Purpose-2.3\"><span class=\"toc-item-num\">2.3&nbsp;&nbsp;</span>Purpose</a></span></li><li><span><a href=\"#Funding\" data-toc-modified-id=\"Funding-2.4\"><span class=\"toc-item-num\">2.4&nbsp;&nbsp;</span>Funding</a></span><ul class=\"toc-item\"><li><span><a href=\"#Granting-Agency(ies):\" data-toc-modified-id=\"Granting-Agency(ies):-2.4.1\"><span class=\"toc-item-num\">2.4.1&nbsp;&nbsp;</span>Granting Agency(ies):</a></span></li><li><span><a href=\"#Award-number(s):\" data-toc-modified-id=\"Award-number(s):-2.4.2\"><span class=\"toc-item-num\">2.4.2&nbsp;&nbsp;</span>Award number(s):</a></span></li></ul></li><li><span><a href=\"#Methodology\" data-toc-modified-id=\"Methodology-2.5\"><span class=\"toc-item-num\">2.5&nbsp;&nbsp;</span>Methodology</a></span></li><li><span><a href=\"#Keywords\" data-toc-modified-id=\"Keywords-2.6\"><span class=\"toc-item-num\">2.6&nbsp;&nbsp;</span>Keywords</a></span></li><li><span><a href=\"#Work-In-Progress---improvements\" data-toc-modified-id=\"Work-In-Progress---improvements-2.7\"><span class=\"toc-item-num\">2.7&nbsp;&nbsp;</span>Work In Progress - improvements</a></span></li><li><span><a href=\"#Results\" data-toc-modified-id=\"Results-2.8\"><span class=\"toc-item-num\">2.8&nbsp;&nbsp;</span>Results</a></span></li><li><span><a href=\"#Suggested-next-steps\" data-toc-modified-id=\"Suggested-next-steps-2.9\"><span class=\"toc-item-num\">2.9&nbsp;&nbsp;</span>Suggested next steps</a></span></li><li><span><a href=\"#Acknowledgements\" data-toc-modified-id=\"Acknowledgements-2.10\"><span class=\"toc-item-num\">2.10&nbsp;&nbsp;</span>Acknowledgements</a></span></li></ul></li><li><span><a href=\"#Setup\" data-toc-modified-id=\"Setup-3\"><span class=\"toc-item-num\">3&nbsp;&nbsp;</span>Setup</a></span><ul class=\"toc-item\"><li><span><a href=\"#Library-import\" data-toc-modified-id=\"Library-import-3.1\"><span class=\"toc-item-num\">3.1&nbsp;&nbsp;</span>Library import</a></span></li><li><span><a href=\"#Local-library-import\" data-toc-modified-id=\"Local-library-import-3.2\"><span class=\"toc-item-num\">3.2&nbsp;&nbsp;</span>Local library import</a></span></li></ul></li><li><span><a href=\"#Parameter-definition\" data-toc-modified-id=\"Parameter-definition-4\"><span class=\"toc-item-num\">4&nbsp;&nbsp;</span>Parameter definition</a></span></li><li><span><a href=\"#Data-import\" data-toc-modified-id=\"Data-import-5\"><span class=\"toc-item-num\">5&nbsp;&nbsp;</span>Data import</a></span></li><li><span><a href=\"#Data-processing\" data-toc-modified-id=\"Data-processing-6\"><span class=\"toc-item-num\">6&nbsp;&nbsp;</span>Data processing</a></span><ul class=\"toc-item\"><li><span><a href=\"#The-10-rules\" data-toc-modified-id=\"The-10-rules-6.1\"><span class=\"toc-item-num\">6.1&nbsp;&nbsp;</span>The 10 rules</a></span></li><li><span><a href=\"#Using-notebook-template\" data-toc-modified-id=\"Using-notebook-template-6.2\"><span class=\"toc-item-num\">6.2&nbsp;&nbsp;</span>Using notebook template</a></span></li><li><span><a href=\"#Adding-table-of-contents\" data-toc-modified-id=\"Adding-table-of-contents-6.3\"><span class=\"toc-item-num\">6.3&nbsp;&nbsp;</span>Adding table of contents</a></span></li><li><span><a href=\"#Creating-Docker-and-Binder-for-your-notebook-repository\" data-toc-modified-id=\"Creating-Docker-and-Binder-for-your-notebook-repository-6.4\"><span class=\"toc-item-num\">6.4&nbsp;&nbsp;</span>Creating Docker and Binder for your notebook repository</a></span></li></ul></li><li><span><a href=\"#References\" data-toc-modified-id=\"References-7\"><span class=\"toc-item-num\">7&nbsp;&nbsp;</span>References</a></span></li></ul></div>"
   ]
  },
  {
   "cell_type": "markdown",
   "metadata": {},
   "source": [
    "## Author(s)\n",
    "List authors, their current affiliations, and up-to-date contact information. Use the form, separating multiple entries with the \"|\" symbol:\n",
    "### Author(s): \n",
    "### Affiliation(s): \n",
    "### Email(s): \n",
    "    \n",
    "    \n",
    "### Author(s): EarthCube Office\n",
    "### Affiliation(s): \n",
    "### Email(s): info@earthcube.org\n",
    "\n",
    "\n",
    "## Citation\n",
    "Include recommended citation for the notebook.\n",
    "\n",
    "## Purpose\n",
    "State the purpose of the notebook.\n",
    "\n",
    "This notebook presents a template and outlines best practices for documenting and formatting Jupyter notebooks and related resources for submission to EarthCube repository. This notebook is developed for Python 3.7+, and expects a standard Jupyter Hub environment. \n",
    "\n",
    "## Funding\n",
    "\n",
    "Include references to awards that supported this research. Use the form, separating multiple entries with the \"|\" symbol:\n",
    "\n",
    "### Granting Agency(ies):\n",
    "### Award number(s): \n",
    "\n",
    "\n",
    "## Methodology\n",
    "Quickly describe assumptions and processing steps. Include web links as necessary. \n",
    "\n",
    "Most cells in this notebook are markdown cells. They describe the expected content of the notebook, steps for formatting and sumitting notebooks, and relevant technologies. The proposed structure and procedures are based on community input and literature (see References)\n",
    "\n",
    "You can use this template as a visual guide, or configure your Jupyter installation such that every notebook opens with this template, in either short of long version. To enable opening notebooks with this template, see instructions for using the Template nbextension, in the Data Processing section.\n",
    "\n",
    "Markdown headings are automatically numbered and organized into a Table of Contents (ToC) using the toc2 nbextenion. See  instructions in the Data Processing section.\n",
    "\n",
    "## Keywords\n",
    "Include keywords, separating multiple entries with the \"|\" symbol.\n",
    "\n",
    "\n",
    "## Work In Progress - improvements\n",
    "Use this section only if the notebook is not final.\n",
    "\n",
    "Notable TODOs:\n",
    "- todo 1;\n",
    "- todo 2;\n",
    "- todo 3.\n",
    "\n",
    "Notable TODOs:\n",
    "- develop similar template for R, and possibly other languages;\n",
    "\n",
    "\n",
    "\n",
    "## Results\n",
    "Describe and comment on the most important results. Include images as necessary. \n",
    "\n",
    "Version 01 of the notebook presents the general structure of the notebook expected by EarthCube, along woth recommendations for additional resources to be created to ensure that the notebook is easy to re-use.\n",
    "\n",
    "\n",
    "\n",
    "## Suggested next steps\n",
    "State suggested next steps, based on results obtained in this notebook. This section is optional.\n",
    "\n",
    "\n",
    "## Acknowledgements \n",
    "This section is optional.\n"
   ]
  },
  {
   "cell_type": "markdown",
   "metadata": {},
   "source": [
    "# Setup\n",
    "\n",
    "## Library import\n",
    "We import all the required Python libraries\n",
    "\n",
    "The code cell below is an example.\n",
    "When publishing your notebook, make sure that all external libraries (with explictly defined versions) are included in the requirements file.\n",
    "\n",
    "It is a good practice to organize the imported libraries by functionality, as shown below."
   ]
  },
  {
   "cell_type": "code",
   "execution_count": null,
   "metadata": {},
   "outputs": [],
   "source": [
    "# Data manipulation\n",
    "import pandas as pd\n",
    "import numpy as np\n",
    "\n",
    "# Options for pandas\n",
    "pd.options.display.max_columns = 50\n",
    "pd.options.display.max_rows = 30\n",
    "\n",
    "# Visualizations\n",
    "import plotly\n",
    "import plotly.graph_objs as go\n",
    "import plotly.offline as ply\n",
    "plotly.offline.init_notebook_mode(connected=True)\n",
    "\n",
    "# Autoreload extension\n",
    "if 'autoreload' not in get_ipython().extension_manager.loaded:\n",
    "    %load_ext autoreload\n",
    "    \n",
    "%autoreload 2"
   ]
  },
  {
   "cell_type": "markdown",
   "metadata": {},
   "source": [
    "## Local library import\n",
    "We import all the required local libraries.\n",
    "\n",
    "Often, notebooks use local libraries which may be shared within your organization and located at a specific path.\n",
    "You can use sample code below to reference location of these libraries.\n",
    "When packaging the notebook for submission to EarthCube, please include the libraries in a sub-directory. "
   ]
  },
  {
   "cell_type": "code",
   "execution_count": null,
   "metadata": {},
   "outputs": [],
   "source": [
    "# Include local library paths\n",
    "import sys\n",
    "# sys.path.append('path/to/local/lib') # uncomment and fill to import local libraries\n",
    "\n",
    "# Import local libraries"
   ]
  },
  {
   "cell_type": "markdown",
   "metadata": {},
   "source": [
    "# Parameter definition\n",
    "We set all relevant parameters for our notebook. By convention, parameters are uppercase, while all the \n",
    "other variables follow Python's guidelines."
   ]
  },
  {
   "cell_type": "markdown",
   "metadata": {},
   "source": [
    "\n",
    "# Data import\n",
    "We retrieve all the required data for the analysis.\n",
    "\n",
    "Please import data in one of two ways:\n",
    "1. Reference data that is available online and continuously managed (preferred). \n",
    "2. If the data is relatively small, please include the files along with the notebook. If you deal with large data, include a subset."
   ]
  },
  {
   "cell_type": "markdown",
   "metadata": {},
   "source": [
    "# Data processing\n",
    "Put here the core of the notebook. Feel free to further split this section into subsections."
   ]
  },
  {
   "cell_type": "markdown",
   "metadata": {},
   "source": [
    "\n",
    "\n",
    "## The 10 rules\n",
    "These recommendations are based on [6]\n",
    "\n",
    "1. Tell a story for an audience: Interleave explanatory text with code and results to create computational narrative\n",
    "\n",
    "2. Document the process, not just the results: so that others, and yourself later, will understand your reasoning and choices.\n",
    "\n",
    "3. Use cell divisions to make steps clear: have eaach cell perform one meaningful and documented step, avoid long cells\n",
    "\n",
    "4. Modularize code: use functions for repeated operations to make the code more readable and save space\n",
    "\n",
    "5. Record dependencies: use pip or Conda package manager, with environment.yml (Conda) or requirements.txt (pip). Please indicate package versions explicitly. Ideally, include a listing of dependencies at the bottom of the notebook. Make sure you test your notebook in an environment created from these dependencies, so that you don't add undocumened dependencies.\n",
    "\n",
    "6. Use version control: https://github.com/jupyter/nbdime is a diffing tool specifically designed for notebooks; you may find it useful\n",
    "\n",
    "7. Build a pipeline: place key variable declarations at the top (section 4 here). Test with different parameters, clean up, and run all cells to prepare for potential non-interactive execution.\n",
    "\n",
    "8. Share and explain your data: if the original data are too big, inlude a sample. Make sure that it is accessible. Include data description, and any processing done beforehand. Ideally, point to datasets that have been permanently managed and identified by DOIs.\n",
    "\n",
    "9. Design your notebooks to be read, run, and explored:  \n",
    "    9.1. Read: store it in a public code repository with a clear README file and a liberal open source license. Generate HTML/PDF versions of the final notebook.  \n",
    "    9.2. Run: use Binder to run it in the cloud, and/or create a Docker image.  \n",
    "    9.3. Explore: use interactive widgets (e.g., ipywidgets, or panel) \n",
    "    \n",
    "10. Advocate for open research: ask your colleagues or friends to try to run your notebooks.\n",
    "\n",
    "\n",
    "__Some details of these recommendations are provided below.__\n",
    "\n",
    "Useful guides are [1], [2], [3], [4]\n",
    "\n",
    "Additional recommendations, beyond the 10 rules:\n",
    "1. Do not include shell commands in cells (unless the notebook will be distributed in Docker container)\n",
    "2. Keep cell output if other researchers will use the included data, or clear if they will use their own data.\n",
    "3. Develop your code in a clean virtual environment, to avoid dependency conflicts and streamline packaging\n",
    "\n",
    "To create a virtual environment, use\n",
    "```\n",
    "conda create -n <enviroment_name> python=3 jupyter -y\n",
    "```\n",
    "or\n",
    "```\n",
    "python3 -m venv /path/to/new/virtual/environment\n",
    "```\n",
    "and then activate it.\n",
    "\n"
   ]
  },
  {
   "cell_type": "markdown",
   "metadata": {},
   "source": [
    "## Using notebook template\n",
    "\n",
    "You can automatically load this notebook template, where several cells and headings are presetfor you. \n",
    "\n",
    "The key steps are:\n",
    "1. In terminal, install jupytemplate by running:\n",
    "```\n",
    "pip install jupytemplate\n",
    "```\n",
    "\n",
    "2. Then, enable the extension in your local Jupyter instance:\n",
    "```\n",
    "jupyter nbextension install --py jupytemplate --sys-prefix\n",
    "jupyter nbextension enable jupytemplate/main --sys-prefix\n",
    "```\n",
    "\n",
    "You will see a \"Nbextensions\" tab in Jupyter's tree view. In it, you can enable/disable the Template extension. If enabled, a new notebook will start from a preset template.\n",
    "\n",
    "\n",
    "See [5] for more information.\n"
   ]
  },
  {
   "cell_type": "code",
   "execution_count": null,
   "metadata": {},
   "outputs": [],
   "source": [
    "# To install this custom EarthCube template, run the following to find the template location\n",
    "\n",
    "import jupytemplate\n",
    "print(jupytemplate.get_template_path())\n",
    "\n",
    "# Then replace the default template.ipynb with this notebook, \n",
    "# or with the short version (just headings and brief explanations)\n",
    "# Both the long and the short versions can be found at earthcube github."
   ]
  },
  {
   "cell_type": "markdown",
   "metadata": {},
   "source": [
    "## Adding table of contents\n",
    "\n",
    "Having a table of contents below the title will make your notebook look more professional, and will help users navigate it.\n",
    "\n",
    "The key steps are:\n",
    "1. In terminal, install jupyter_contrib_nbextensions\n",
    "```\n",
    "pip install --user jupyter_contrib_nbextensions\n",
    "jupyter contrib nbextension install --user\n",
    "```\n",
    "\n",
    "2. Then, enable the Table of Contents extension:\n",
    "```\n",
    "jupyter nbextension enable toc2/main\n",
    "```\n",
    "\n",
    "You will see a new icon \"Table of Contents\" added to the row of icons. It will toggle the ToC view. Click the Gear icon on the ToC panel to add a ToC cell to your notebook.\n",
    "\n",
    "See [5.1], [5.2] for more information\n"
   ]
  },
  {
   "cell_type": "markdown",
   "metadata": {},
   "source": [
    "## Creating Docker and Binder for your notebook repository\n",
    "\n",
    "Sharing just the Jupyter notebook .ipynb file is not sufficient for broad re-usability. We request that Jupyter notebooks are submitted to EarthCube in Binders. The Binder service is a free service that allows anyone to run notebooks from their web browser without installing any software and resolving dependencies. \n",
    "\n",
    "Follow these steps:\n",
    "1. Assemble the Jupyter notebooks , environment files, custom external libraries, datasets, and a README, in a single project directory (and sub-directories off of it, as needed). Use GitHub to organize your project as a GitHub repository.\n",
    "\n",
    "2. Optionally, test your project with repo2docker. See instructions in [2]. This will create a docker image which can be made available in a Docker repository. \n",
    "\n",
    "3. Create Binder. Use mybinder.org to create a URL for your notebook Binder (you will need to enter your GitHub repo URL). You can also add a Launch Binder button directly to your GitHub repo, by include the following in your README.md:\n",
    "```\n",
    "launch with myBinder\n",
    "[![Binder](https://mybinder.org/badge.svg)](https://mybinder.org/v2/gh/<path to your repo>)\n",
    "```\n",
    "\n",
    "Specific projects may have their own Binder implementations. In this case, include a project-specific Binder reference so that reviewers can execure your code.\n",
    "\n",
    "Expect the reviewers to use a browser of their choice to run your code, and avoid execution environments that have any special requirements that reviewers may not have (for example, Google colab requires a Google account, which reviewers may not have).\n"
   ]
  },
  {
   "cell_type": "markdown",
   "metadata": {},
   "source": [
    "# References\n",
    "We report here relevant references:\n",
    "\n",
    "1. https://reproducible-science-curriculum.github.io/publication-RR-Jupyter/ (Notebook sharing guidelines from reproducible-science-curriculum)\n",
    "2. https://github.com/kevincoakley/sharing-jupyter-notebooks/raw/master/Jupyter-Notebooks-Sharing-Recommendations.pdf  (Guide for developing shareable notebooks by Kevin Coakley, SDSC)\n",
    "3. https://zonca.dev/2020/09/how-to-share-jupyter-notebooks.html (similar guide, by Andrea Zonca, SDSC)\n",
    "4. https://towardsdatascience.com/jupyter-notebook-best-practices-f430a6ba8c69 (Jupyter Notebook Best Practices)\n",
    "5. https://towardsdatascience.com/stop-copy-pasting-notebooks-embrace-jupyter-templates-6bd7b6c00b94 (Introduction to Jupyter templates nbextension)  \n",
    "    5.1. https://jupyter-contrib-nbextensions.readthedocs.io/en/latest/nbextensions/toc2/README.html (Toc2 readthedocs)\n",
    "    5.2. https://stackoverflow.com/questions/23435723/installing-ipython-notebook-table-of-contents (quick steps to install toc2) \n",
    "6. Rule A, Birmingham A, Zuniga C, Altintas I, Huang SC, et al. (2019) Ten simple rules for writing and sharing computational analyses in Jupyter Notebooks. PLOS Computational Biology 15(7): e1007007. https://doi.org/10.1371/journal.pcbi.1007007. Supplementary materials: example notebooks (https://github.com/jupyter-guide/ten-rules-jupyter) and tutorial (https://github.com/ISMB-ECCB-2019-Tutorial-AM4/reproducible-computational-workflows)\n",
    "7. https://www.earthcube.org/notebooks (EarthCube notebooks presented at EC Annual Meeting 2020)\n",
    "8. https://github.com/jupyter/jupyter/wiki/Jupyter-kernels (Languages supported by Jupyter kernels)\n",
    "9. https://jupyter.org/try (Examples from the Jupyter Project)"
   ]
  },
  {
   "cell_type": "code",
   "execution_count": null,
   "metadata": {},
   "outputs": [],
   "source": []
  }
 ],
 "metadata": {
  "kernelspec": {
   "display_name": "Python 3",
   "language": "python",
   "name": "python3"
  },
  "language_info": {
   "codemirror_mode": {
    "name": "ipython",
    "version": 3
   },
   "file_extension": ".py",
   "mimetype": "text/x-python",
   "name": "python",
   "nbconvert_exporter": "python",
   "pygments_lexer": "ipython3",
   "version": "3.7.7"
  },
  "toc": {
   "base_numbering": 1,
   "nav_menu": {},
   "number_sections": true,
   "sideBar": true,
   "skip_h1_title": false,
   "title_cell": "Table of Contents",
   "title_sidebar": "Contents",
   "toc_cell": true,
   "toc_position": {
    "height": "calc(100% - 180px)",
    "left": "10px",
    "top": "150px",
    "width": "248.182px"
   },
   "toc_section_display": true,
   "toc_window_display": true
  }
 },
 "nbformat": 4,
 "nbformat_minor": 4
}
